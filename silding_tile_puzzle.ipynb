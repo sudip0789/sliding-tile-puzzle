{
 "cells": [
  {
   "cell_type": "markdown",
   "id": "0cf52026-a219-4d50-a7e8-f780de8615fb",
   "metadata": {},
   "source": [
    "# Solving Sliding Tile Puzzles Using A* Algorithm\n",
    "\n",
    "### Sudip Das"
   ]
  },
  {
   "cell_type": "code",
   "execution_count": 15,
   "id": "72b4d784-4e05-43e5-aef2-4a754750b792",
   "metadata": {},
   "outputs": [],
   "source": [
    "#Start and Goal States\n",
    "start_state = [\n",
    "    [7, 2, 4],\n",
    "    [5, 0, 6],\n",
    "    [8, 3, 1]\n",
    "]\n",
    "\n",
    "goal_state = [\n",
    "    [0, 1, 2],\n",
    "    [3, 4, 5],\n",
    "    [6, 7, 8]\n",
    "]"
   ]
  },
  {
   "cell_type": "markdown",
   "id": "c523c7c3-de1d-4276-803d-4c058643a963",
   "metadata": {},
   "source": [
    "### Heuristic Function"
   ]
  },
  {
   "cell_type": "code",
   "execution_count": 8,
   "id": "f65eed12-8b13-451f-be85-a09c9f64f3ee",
   "metadata": {},
   "outputs": [],
   "source": [
    "# get Heuristic by finding number of Displaced tiles\n",
    "def heuristic (state, goal):\n",
    "    num_displaced = 0\n",
    "    for i in range(3):\n",
    "        for j in range(3):\n",
    "            if state[i][j] != 0 and state[i][j] != goal[i][j]:\n",
    "                num_displaced += 1\n",
    "    return num_displaced\n"
   ]
  },
  {
   "cell_type": "code",
   "execution_count": 9,
   "id": "61c82a86-e3ab-40f8-9c1e-ef8020f06471",
   "metadata": {},
   "outputs": [],
   "source": [
    "def get_paths(state):\n",
    "\n",
    "    paths = []\n",
    "    for i in range(3):\n",
    "        for j in range(3):\n",
    "            if state[i][j] == 0:\n",
    "                zero_pos = (i,j)\n",
    "            \n",
    "    # Action: Up, Down, Left, Right    \n",
    "    for direction in [(-1, 0), (1, 0), (0, -1), (0, 1)]: \n",
    "        i, j = zero_pos[0] + direction[0], zero_pos[1] + direction[1]\n",
    "        \n",
    "        if 0 <= i < 3 and 0 <= j < 3:\n",
    "            #make copy of the state\n",
    "            new_state = [list(row) for row in state]\n",
    "            # Action = swap blank tile\n",
    "            new_state[zero_pos[0]][zero_pos[1]], new_state[i][j] = new_state[i][j], new_state[zero_pos[0]][zero_pos[1]]\n",
    "            paths.append((tuple(map(tuple, new_state)), direction))\n",
    "    return paths\n"
   ]
  },
  {
   "cell_type": "markdown",
   "id": "9bb9c4bf-2899-42de-be31-a25d6aa7ee5a",
   "metadata": {},
   "source": [
    "### A* Algorithm"
   ]
  },
  {
   "cell_type": "code",
   "execution_count": 16,
   "id": "02e26aaf-8377-4d8a-8f05-94e1bd9f0b09",
   "metadata": {},
   "outputs": [],
   "source": [
    "import heapq\n",
    "\n",
    "class PriorityQueue:\n",
    "    def __init__(self):\n",
    "        self.elements = []\n",
    "    \n",
    "    def empty(self) -> bool:\n",
    "        return not self.elements\n",
    "    \n",
    "    def put(self, item, priority):\n",
    "        heapq.heappush(self.elements, (priority, item))\n",
    "    \n",
    "    def get(self):\n",
    "        return heapq.heappop(self.elements)[1]\n",
    "\n",
    "def astar_path_sliding_puzzle(start, goal, W, heuristic):\n",
    "    '''\n",
    "    para1: connected graph\n",
    "    para2: Starting node\n",
    "    para3: ending Node\n",
    "    return1: list of visited nodes\n",
    "    return2: nodes of shortest path\n",
    "    '''\n",
    "    frontier = PriorityQueue()\n",
    "    frontier.put(start, 0)\n",
    "    came_from= {}\n",
    "    cost_so_far= {}\n",
    "    came_from[start] = None\n",
    "    cost_so_far[start] = 0\n",
    "    while not frontier.empty():\n",
    "        current = frontier.get()\n",
    "        if current == goal:\n",
    "            break\n",
    "        for next, move in get_paths(current):\n",
    "            new_cost = cost_so_far[current] + 1\n",
    "            if next not in cost_so_far or new_cost < cost_so_far[next]:\n",
    "                cost_so_far[next] = new_cost\n",
    "                priority = new_cost + W* heuristic(next, goal)\n",
    "                frontier.put(next, priority)\n",
    "                came_from[next] = current\n",
    "    current= goal\n",
    "    path = []\n",
    "    while current != start: \n",
    "        path.append(current)\n",
    "        current = came_from[current]\n",
    "    path.append(start) \n",
    "    path.reverse() \n",
    "    return came_from, path"
   ]
  },
  {
   "cell_type": "code",
   "execution_count": 17,
   "id": "b85acf4a-88db-42cf-88ef-3a3a44279e75",
   "metadata": {},
   "outputs": [
    {
     "name": "stdout",
     "output_type": "stream",
     "text": [
      "shortest path length: 27\n"
     ]
    }
   ],
   "source": [
    "start = tuple(map(tuple, start_state))\n",
    "goal = tuple(map(tuple, goal_state))\n",
    "came_from, path = astar_path_sliding_puzzle(start, goal, 1, heuristic)\n",
    "\n",
    "print('shortest path length:',len(path))\n"
   ]
  },
  {
   "cell_type": "code",
   "execution_count": null,
   "id": "581c625c-cb30-4a0d-b057-a050bdc1511e",
   "metadata": {},
   "outputs": [],
   "source": []
  }
 ],
 "metadata": {
  "kernelspec": {
   "display_name": "Python 3 (ipykernel)",
   "language": "python",
   "name": "python3"
  },
  "language_info": {
   "codemirror_mode": {
    "name": "ipython",
    "version": 3
   },
   "file_extension": ".py",
   "mimetype": "text/x-python",
   "name": "python",
   "nbconvert_exporter": "python",
   "pygments_lexer": "ipython3",
   "version": "3.12.3"
  }
 },
 "nbformat": 4,
 "nbformat_minor": 5
}
